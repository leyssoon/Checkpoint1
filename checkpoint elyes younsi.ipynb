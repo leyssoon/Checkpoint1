{
 "cells": [
  {
   "cell_type": "code",
   "execution_count": 2,
   "id": "6172da12",
   "metadata": {},
   "outputs": [
    {
     "name": "stdout",
     "output_type": "stream",
     "text": [
      "le nombre de mots: 10\n"
     ]
    }
   ],
   "source": [
    "def conteur_de_mots(file_name):\n",
    "    with open(file_name, 'r') as file:\n",
    "        content = file.read()\n",
    "        word_count = len(content.split())\n",
    "    return word_count\n",
    "\n",
    "\n",
    "word_count = conteur_de_mots(\"file.txt\")\n",
    "print(f\"le nombre de mots: {word_count}\")"
   ]
  },
  {
   "cell_type": "code",
   "execution_count": null,
   "id": "6d214ee6",
   "metadata": {},
   "outputs": [],
   "source": [
    "def read_last_n_line(line_name,n):\n",
    "    with open(line_name,'r') as file:\n",
    "        return(file.readlines()[-n:])\n",
    "\n",
    "print(read_last_n_line('file.txt',3))"
   ]
  }
 ],
 "metadata": {
  "kernelspec": {
   "display_name": "Python 3 (ipykernel)",
   "language": "python",
   "name": "python3"
  },
  "language_info": {
   "codemirror_mode": {
    "name": "ipython",
    "version": 3
   },
   "file_extension": ".py",
   "mimetype": "text/x-python",
   "name": "python",
   "nbconvert_exporter": "python",
   "pygments_lexer": "ipython3",
   "version": "3.10.9"
  }
 },
 "nbformat": 4,
 "nbformat_minor": 5
}
