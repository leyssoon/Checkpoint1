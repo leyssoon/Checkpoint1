{
 "cells": [
  {
   "cell_type": "code",
   "execution_count": 1,
   "id": "4cf77e68",
   "metadata": {},
   "outputs": [],
   "source": [
    "from bs4 import BeautifulSoup\n",
    "import re\n",
    "import time"
   ]
  },
  {
   "cell_type": "code",
   "execution_count": null,
   "id": "95ae069e",
   "metadata": {},
   "outputs": [],
   "source": [
    "Enter_input = input(\"Search: \")\n",
    "u_i = string.capwords(Enter_input)\n",
    "lists = u_i.split()\n",
    "word = \"_\".join(lists)\n",
    "\n",
    "url = \"https://www.wikipedia.org/\"+word\n",
    "\n",
    "def wikibot(url):\n",
    "    url_open =request.get(url)\n",
    "    soup = BeautifulSoup(url.content,'html.parser')\n",
    "    details =soup('table',{'class': infobox})\n",
    "    for i in details:\n",
    "        h =i.find_all('tr')\n",
    "        for j in h:\n",
    "            heading = j.find_all('th')\n",
    "            detail = j.find_all('ta')\n",
    "            if heading is not None and detail is not None:\n",
    "                for x,y in zip(heading,detail):\n",
    "                    print(\"{}  ::  {}\",format(x.text,y.text))\n",
    "                    print(\"------------------\")\n",
    "    for i in range(1,3):\n",
    "        print(soup('p')[i].text)\n",
    "wikibot([ur])                           "
   ]
  },
  {
   "cell_type": "code",
   "execution_count": null,
   "id": "d2432973",
   "metadata": {},
   "outputs": [],
   "source": []
  },
  {
   "cell_type": "code",
   "execution_count": null,
   "id": "c60a7d8d",
   "metadata": {},
   "outputs": [],
   "source": []
  }
 ],
 "metadata": {
  "kernelspec": {
   "display_name": "Python 3 (ipykernel)",
   "language": "python",
   "name": "python3"
  },
  "language_info": {
   "codemirror_mode": {
    "name": "ipython",
    "version": 3
   },
   "file_extension": ".py",
   "mimetype": "text/x-python",
   "name": "python",
   "nbconvert_exporter": "python",
   "pygments_lexer": "ipython3",
   "version": "3.10.9"
  }
 },
 "nbformat": 4,
 "nbformat_minor": 5
}
