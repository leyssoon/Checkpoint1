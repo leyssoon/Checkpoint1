{
 "cells": [
  {
   "cell_type": "code",
   "execution_count": 24,
   "id": "1ae79382",
   "metadata": {},
   "outputs": [
    {
     "name": "stdout",
     "output_type": "stream",
     "text": [
      "36\n"
     ]
    }
   ],
   "source": [
    "def multiply_items(lst):\n",
    "    result = 1\n",
    "    for item in lst:\n",
    "        result *= item\n",
    "    return result\n",
    "sample_list = [2, 3, 6]\n",
    "result = multiply_items(sample_list)\n",
    "print(result)  "
   ]
  },
  {
   "cell_type": "code",
   "execution_count": 32,
   "id": "35b85a2c",
   "metadata": {},
   "outputs": [],
   "source": [
    "samplelist = [(2, 5), (1, 2), (4, 4), (2, 3), (2, 1)]"
   ]
  },
  {
   "cell_type": "code",
   "execution_count": 34,
   "id": "d9d826db",
   "metadata": {},
   "outputs": [
    {
     "name": "stdout",
     "output_type": "stream",
     "text": [
      "[(2, 1), (1, 2), (2, 3), (4, 4), (2, 5)]\n"
     ]
    }
   ],
   "source": [
    " def list(tuples):\n",
    "    return sorted(tuples, key=lambda x: x[-1])\n",
    "tuples_list = [(2, 5), (1, 2), (4, 4), (2, 3), (2, 1)]\n",
    "sorted_tuples = list(tuples_list)\n",
    "print(sorted_tuples)   "
   ]
  },
  {
   "cell_type": "code",
   "execution_count": 3,
   "id": "b662e4e7",
   "metadata": {},
   "outputs": [
    {
     "name": "stdout",
     "output_type": "stream",
     "text": [
      "{'a': 400, 'b': 400}\n"
     ]
    }
   ],
   "source": [
    "d1 = {'a': 100, 'b': 200, 'c': 300}\n",
    "d2 = {'a': 300, 'b': 200, 'd': 400\n",
    "list = {}\n",
    "for key in d1:\n",
    "    if key in d2:\n",
    "        list[key] = d1[key] + d2[key]\n",
    "\n",
    "print(list)"
   ]
  },
  {
   "cell_type": "code",
   "execution_count": 28,
   "id": "54838c96",
   "metadata": {},
   "outputs": [
    {
     "name": "stdout",
     "output_type": "stream",
     "text": [
      "Enter the value of n: \n"
     ]
    },
    {
     "ename": "ValueError",
     "evalue": "invalid literal for int() with base 10: ''",
     "output_type": "error",
     "traceback": [
      "\u001b[1;31m---------------------------------------------------------------------------\u001b[0m",
      "\u001b[1;31mValueError\u001b[0m                                Traceback (most recent call last)",
      "Cell \u001b[1;32mIn[28], line 1\u001b[0m\n\u001b[1;32m----> 1\u001b[0m n \u001b[38;5;241m=\u001b[39m \u001b[38;5;28;43mint\u001b[39;49m\u001b[43m(\u001b[49m\u001b[38;5;28;43minput\u001b[39;49m\u001b[43m(\u001b[49m\u001b[38;5;124;43m\"\u001b[39;49m\u001b[38;5;124;43mEnter the value of n: \u001b[39;49m\u001b[38;5;124;43m\"\u001b[39;49m\u001b[43m)\u001b[49m\u001b[43m)\u001b[49m \n\u001b[0;32m      2\u001b[0m result \u001b[38;5;241m=\u001b[39m {}  \n\u001b[0;32m      3\u001b[0m \u001b[38;5;28;01mfor\u001b[39;00m i \u001b[38;5;129;01min\u001b[39;00m \u001b[38;5;28mrange\u001b[39m(\u001b[38;5;241m1\u001b[39m, n\u001b[38;5;241m+\u001b[39m\u001b[38;5;241m1\u001b[39m): \n",
      "\u001b[1;31mValueError\u001b[0m: invalid literal for int() with base 10: ''"
     ]
    }
   ],
   "source": [
    "n = int(input(\"Enter the value of n: \")) \n",
    "result = {}  \n",
    "for i in range(1, n+1): \n",
    "    result[i] = i*i  \n",
    "print(result)  "
   ]
  },
  {
   "cell_type": "code",
   "execution_count": 35,
   "id": "fe4c8d99",
   "metadata": {},
   "outputs": [
    {
     "name": "stdout",
     "output_type": "stream",
     "text": [
      "('85', 1.8)\n",
      "('55', 2.5)\n",
      "('56', 3.2)\n",
      "('58', 4.0)\n"
     ]
    }
   ],
   "source": [
    "def list(tup):\n",
    "    sorted_tuple = sorted(tup, key=lambda x: x[1])\n",
    "    return sorted_tuple\n",
    "my_tuple = [('55', 2.5), ('56', 3.2), ('85', 1.8), ('58', 4.0)]\n",
    "sorted_tuple = list(my_tuple)\n",
    "for item in sorted_tuple:\n",
    "    print(item)"
   ]
  },
  {
   "cell_type": "code",
   "execution_count": 14,
   "id": "40cb04f5",
   "metadata": {},
   "outputs": [
    {
     "name": "stdout",
     "output_type": "stream",
     "text": [
      "{'15', '8', '9', '1001'}\n"
     ]
    }
   ],
   "source": [
    "set = {'15', '1001', '9', '8'}\n",
    "print(set)"
   ]
  }
 ],
 "metadata": {
  "kernelspec": {
   "display_name": "Python 3 (ipykernel)",
   "language": "python",
   "name": "python3"
  },
  "language_info": {
   "codemirror_mode": {
    "name": "ipython",
    "version": 3
   },
   "file_extension": ".py",
   "mimetype": "text/x-python",
   "name": "python",
   "nbconvert_exporter": "python",
   "pygments_lexer": "ipython3",
   "version": "3.10.9"
  }
 },
 "nbformat": 4,
 "nbformat_minor": 5
}
