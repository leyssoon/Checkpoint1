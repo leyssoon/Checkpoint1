{
 "cells": [
  {
   "cell_type": "code",
   "execution_count": 29,
   "id": "d5008e9d",
   "metadata": {},
   "outputs": [
    {
     "name": "stdout",
     "output_type": "stream",
     "text": [
      "31.11 N\\{DEGREE CELSIUS}\n"
     ]
    }
   ],
   "source": [
    "import tkinter as tk\n",
    "\n",
    "def fahrenheit_to_celsius(f):\n",
    "    celsius = (float(f - 32))* 5/9\n",
    "    celsius = round(celsius,2)\n",
    "    print(celsius,\"N\\{DEGREE CELSIUS}\")\n",
    "fahrenheit_to_celsius(88)\n",
    "\n",
    "window = tk.Tk()\n",
    "window.title(\"Temperature Converter\")\n",
    "window.resizable(width=False, height=False)\n",
    "\n",
    "def fahrenheit_to_celsius():\n",
    "\n",
    "    fahrenheit = ent_temperature.get()\n",
    "    celsius = (float(fahrenheit) - 32) * 5/9\n",
    "    celsius = round(celsius, 2)\n",
    "    lbl_result[\"text\"] = f\"{celsius} \\N{DEGREE CELSIUS}\"\n",
    "\n",
    "frm_entry = tk.Frame(master=window)\n",
    "ent_temperature = tk.Entry(master=frm_entry, width=40)\n",
    "lbl_temp = tk.Label(master=frm_entry, text=\"\\N{DEGREE FAHRENHEIT}\")\n",
    "\n",
    "btn_convert = tk.Button(\n",
    "    master=window, \n",
    "    text=\"\\N{RIGHTWARDS BLACK ARROW}\", \n",
    "    command=fahrenheit_to_celsius\n",
    ")\n",
    "\n",
    "lbl_result = tk.Label(master=window, text=\"\\N{DEGREE CELSIUS}\")\n",
    "\n",
    "btn_convert.grid(row=0, column=1, pady=10)\n",
    "frm_entry.grid(row=0,column=0, padx=10)\n",
    "ent_temperature.grid(row=0, column=0, sticky=\"e\")\n",
    "lbl_temp.grid(row=0, column=1, sticky=\"w\") \n",
    "lbl_result.grid(row=0, column=2, padx=10)\n",
    "\n",
    "window.mainloop()\n"
   ]
  },
  {
   "cell_type": "code",
   "execution_count": null,
   "id": "6d345821",
   "metadata": {},
   "outputs": [],
   "source": []
  }
 ],
 "metadata": {
  "kernelspec": {
   "display_name": "Python 3 (ipykernel)",
   "language": "python",
   "name": "python3"
  },
  "language_info": {
   "codemirror_mode": {
    "name": "ipython",
    "version": 3
   },
   "file_extension": ".py",
   "mimetype": "text/x-python",
   "name": "python",
   "nbconvert_exporter": "python",
   "pygments_lexer": "ipython3",
   "version": "3.10.9"
  }
 },
 "nbformat": 4,
 "nbformat_minor": 5
}
