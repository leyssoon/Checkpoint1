{
 "cells": [
  {
   "cell_type": "code",
   "execution_count": 17,
   "id": "9f21afae",
   "metadata": {},
   "outputs": [
    {
     "name": "stdout",
     "output_type": "stream",
     "text": [
      "welcome to Guess the number Game\n",
      "I'm thinking of a number between 1 and 100\n",
      " You have 5 attempts to guess it\n",
      "Enter your guess45\n",
      "your guess is high.\n",
      "Enter your guess43\n",
      "your guess is high.\n",
      "Enter your guess30\n",
      "your guess is low.\n",
      "Enter your guess35\n",
      "your guess is high.\n",
      "Enter your guess32\n",
      "Congrats! you won \n"
     ]
    }
   ],
   "source": [
    "import random\n",
    "\n",
    "print(\"welcome to Guess the number Game\")\n",
    "print(\"I'm thinking of a number between 1 and 100\")\n",
    "print(\" You have 5 attempts to guess it\")\n",
    "\n",
    "\n",
    "#  generate random number\n",
    "number = random.randint(1,100)\n",
    "\n",
    "#set the number of attempts to 5\n",
    "attempts = 5\n",
    "\n",
    "# loop for 5 attempts\n",
    "for attempts in range(1, attempts+1):\n",
    "    guess = int(input(\"Enter your guess\"))\n",
    "    \n",
    "    \n",
    "    if guess == number:\n",
    "        print(\"Congrats! you won \")\n",
    "        break\n",
    "    elif guess < number:\n",
    "         print(\"your guess is low.\")\n",
    "    elif guess > number:\n",
    "         print(\"your guess is high.\")\n",
    "              \n",
    "              \n",
    "              \n",
    "    \n",
    "    # if the user didn't guess the number\n",
    "    else:\n",
    "        if attempts >5 :\n",
    "            print(\"sorry, you didn't guess the number. \")       \n",
    "       \n",
    "    \n",
    "    \n",
    "\n",
    "\n"
   ]
  },
  {
   "cell_type": "code",
   "execution_count": null,
   "id": "686249fe",
   "metadata": {},
   "outputs": [],
   "source": []
  },
  {
   "cell_type": "code",
   "execution_count": null,
   "id": "286b3686",
   "metadata": {},
   "outputs": [],
   "source": []
  }
 ],
 "metadata": {
  "kernelspec": {
   "display_name": "Python 3 (ipykernel)",
   "language": "python",
   "name": "python3"
  },
  "language_info": {
   "codemirror_mode": {
    "name": "ipython",
    "version": 3
   },
   "file_extension": ".py",
   "mimetype": "text/x-python",
   "name": "python",
   "nbconvert_exporter": "python",
   "pygments_lexer": "ipython3",
   "version": "3.10.9"
  }
 },
 "nbformat": 4,
 "nbformat_minor": 5
}
