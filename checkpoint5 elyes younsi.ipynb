{
 "cells": [
  {
   "cell_type": "code",
   "execution_count": 6,
   "id": "a9867dca",
   "metadata": {},
   "outputs": [],
   "source": [
    "class Point3D:\n",
    "    def __init__(self, x, y, z):\n",
    "        self.longeur = x\n",
    "        self.hauteur = y\n",
    "        self.largeur = z\n",
    "        \n",
    "    def Point3D(self):\n",
    "        return self.longeur*self.hauteur*self.largeur\n",
    "        \n",
    "my_point = Point3D(1,2,3)"
   ]
  },
  {
   "cell_type": "code",
   "execution_count": 8,
   "id": "1a9f9750",
   "metadata": {},
   "outputs": [],
   "source": [
    "def area(self):\n",
    "    return self.length * self.width\n",
    "\n",
    "def perimeter(self):\n",
    "    return 2 * (self.length + self.width)"
   ]
  },
  {
   "cell_type": "code",
   "execution_count": null,
   "id": "994253d6",
   "metadata": {},
   "outputs": [],
   "source": [
    "i didn't understand the questions"
   ]
  }
 ],
 "metadata": {
  "kernelspec": {
   "display_name": "Python 3 (ipykernel)",
   "language": "python",
   "name": "python3"
  },
  "language_info": {
   "codemirror_mode": {
    "name": "ipython",
    "version": 3
   },
   "file_extension": ".py",
   "mimetype": "text/x-python",
   "name": "python",
   "nbconvert_exporter": "python",
   "pygments_lexer": "ipython3",
   "version": "3.10.9"
  }
 },
 "nbformat": 4,
 "nbformat_minor": 5
}
